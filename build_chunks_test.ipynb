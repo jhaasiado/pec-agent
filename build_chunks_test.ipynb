{
 "cells": [
  {
   "cell_type": "code",
   "execution_count": 4,
   "id": "d66b0301",
   "metadata": {},
   "outputs": [],
   "source": [
    "import json\n",
    "import re\n",
    "from pathlib import Path\n"
   ]
  },
  {
   "cell_type": "code",
   "execution_count": 7,
   "id": "b82ff1ab",
   "metadata": {},
   "outputs": [],
   "source": [
    "input_path=\"../data_structured/chapter2_structured.json\"\n",
    "output_path=\"../data/pec_chunks_chapter2.json\"\n",
    "chunk_size  = 800\n",
    "overlap     = 80"
   ]
  },
  {
   "cell_type": "code",
   "execution_count": 8,
   "id": "3f0f165f",
   "metadata": {},
   "outputs": [
    {
     "data": {
      "text/plain": [
       "457326"
      ]
     },
     "execution_count": 8,
     "metadata": {},
     "output_type": "execute_result"
    }
   ],
   "source": [
    "\n",
    "raw = json.loads(Path(input_path).read_text(encoding=\"utf-8\"))\n",
    "chunks = []\n",
    "\n",
    "for article in raw:\n",
    "    for sec in article.get(\"sections\", []):\n",
    "        items = sec.get(\"subsections\") or [sec]\n",
    "\n",
    "        for sub in items:\n",
    "            sec_id = sub.get(\"section\", \"\").strip()\n",
    "            title  = sub.get(\"title\", \"\").strip()\n",
    "            text   = sub.get(\"text\", \"\") or \"\"\n",
    "\n",
    "            # clean text\n",
    "            full = re.sub(r'^[0-9]+(?:\\.[0-9]+)+\\s*', '',\n",
    "                            \" \".join(text.splitlines())).strip()\n",
    "\n",
    "            # sliding window chunking\n",
    "            step = chunk_size - overlap\n",
    "            total_len = len(full)\n",
    "            if total_len == 0:\n",
    "                continue\n",
    "\n",
    "            num_chunks = (total_len - overlap + step - 1) // step\n",
    "            for i in range(num_chunks):\n",
    "                start = i * step\n",
    "                end   = min(start + chunk_size, total_len)\n",
    "                piece = full[start:end].strip()\n",
    "                if not piece:\n",
    "                    continue\n",
    "\n",
    "                # id suffix only if multiple\n",
    "                chunk_id = sec_id if num_chunks == 1 else f\"{sec_id}_{i+1}\"\n",
    "\n",
    "                parts = sec_id.split(\".\")\n",
    "                metadata = {\n",
    "                    \"chapter\": parts[0] if parts else \"\",\n",
    "                    \"article\": \".\".join(parts[:2]) if len(parts) >= 2 else \"\",\n",
    "                    \"section_title\": title\n",
    "                }\n",
    "\n",
    "                chunks.append({\n",
    "                    \"id\":       chunk_id,\n",
    "                    \"text\":     piece,\n",
    "                    \"metadata\": metadata\n",
    "                })\n",
    "\n",
    "Path(output_path).write_text(\n",
    "    json.dumps(chunks, ensure_ascii=False, indent=2),\n",
    "    encoding=\"utf-8\"\n",
    ")\n",
    "\n"
   ]
  },
  {
   "cell_type": "code",
   "execution_count": null,
   "id": "9a90ed73",
   "metadata": {},
   "outputs": [],
   "source": []
  }
 ],
 "metadata": {
  "kernelspec": {
   "display_name": "Python 3",
   "language": "python",
   "name": "python3"
  },
  "language_info": {
   "codemirror_mode": {
    "name": "ipython",
    "version": 3
   },
   "file_extension": ".py",
   "mimetype": "text/x-python",
   "name": "python",
   "nbconvert_exporter": "python",
   "pygments_lexer": "ipython3",
   "version": "3.12.2"
  }
 },
 "nbformat": 4,
 "nbformat_minor": 5
}
